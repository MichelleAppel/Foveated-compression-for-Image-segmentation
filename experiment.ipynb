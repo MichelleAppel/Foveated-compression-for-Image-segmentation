{
 "cells": [
  {
   "cell_type": "markdown",
   "metadata": {},
   "source": [
    "# Experiment\n",
    "\n",
    "1. Setup dataset and dataloader\n",
    "1. Setup foveation processing\n",
    "1. Setup Neural Network"
   ]
  },
  {
   "cell_type": "markdown",
   "metadata": {},
   "source": [
    "# Dataset and dataloader"
   ]
  },
  {
   "cell_type": "code",
   "execution_count": 1,
   "metadata": {},
   "outputs": [],
   "source": [
    "import math\n",
    "import numpy as np\n",
    "import cv2\n",
    "\n",
    "import torch\n",
    "import torchvision\n",
    "from torchvision import datasets, transforms\n",
    "from torchvision.transforms import InterpolationMode\n",
    "from torch.utils.data import DataLoader\n",
    "\n",
    "import matplotlib.pyplot as plt\n",
    "\n",
    "from PIL import Image"
   ]
  },
  {
   "cell_type": "code",
   "execution_count": 2,
   "metadata": {},
   "outputs": [],
   "source": [
    "# Plots\n",
    "\n",
    "def replace_tensor_value_(tensor, a, b):\n",
    "    tensor[tensor == a] = b\n",
    "    return tensor\n",
    "\n",
    "def plot_images(images, num_per_row=4, title=None):\n",
    "    num_rows = int(math.ceil(len(images) / num_per_row))\n",
    "\n",
    "    fig, axes = plt.subplots(num_rows, num_per_row, dpi=256)\n",
    "    fig.subplots_adjust(wspace=0, hspace=0)\n",
    "\n",
    "    for image, ax in zip(images, axes.flat):\n",
    "        ax.imshow(image, cmap='gray')\n",
    "        ax.axis('off')\n",
    "\n",
    "    return fig"
   ]
  },
  {
   "cell_type": "code",
   "execution_count": 3,
   "metadata": {},
   "outputs": [],
   "source": [
    "# Transforms\n",
    "\n",
    "input_resize = transforms.Resize((81, 81))\n",
    "input_transform = transforms.Compose(\n",
    "    [\n",
    "        input_resize,\n",
    "        transforms.ToTensor(),\n",
    "    ]\n",
    ")\n",
    "\n",
    "\n",
    "target_resize = transforms.Resize((81, 81), interpolation=InterpolationMode.NEAREST)\n",
    "target_transform = transforms.Compose(\n",
    "    [\n",
    "        target_resize,\n",
    "        transforms.ToTensor(),\n",
    "        # transforms.Lambda(lambda x: replace_tensor_value_(x.squeeze(0).long(), 255, 21)),\n",
    "    ]\n",
    ")"
   ]
  },
  {
   "cell_type": "code",
   "execution_count": 4,
   "metadata": {},
   "outputs": [],
   "source": [
    "# Creating a VOC dataset without normalization for visualization.\n",
    "train_dataset_viz = datasets.VOCSegmentation(\n",
    "    'data',\n",
    "    year='2012',\n",
    "    image_set='train',\n",
    "    transform=input_transform,\n",
    "    target_transform=target_transform,\n",
    ")"
   ]
  },
  {
   "cell_type": "code",
   "execution_count": 5,
   "metadata": {},
   "outputs": [],
   "source": [
    "batch_size = 16\n",
    "inputs, ground_truths = map(list, zip(*[train_dataset_viz[i+256+12*16] for i in range(batch_size)]))\n",
    "# _ = plot_images(inputs)\n",
    "# _ = plot_images(ground_truths)"
   ]
  },
  {
   "cell_type": "markdown",
   "metadata": {},
   "source": [
    "# Foveated compression"
   ]
  },
  {
   "cell_type": "code",
   "execution_count": 6,
   "metadata": {},
   "outputs": [],
   "source": [
    "from fovperi.fov.fov2 import getFov, reverseMapPixel, reverseMapPixel_Initial, generate_fovea "
   ]
  },
  {
   "cell_type": "code",
   "execution_count": 7,
   "metadata": {},
   "outputs": [],
   "source": [
    "# foveated_compression.py\n",
    "\n",
    "import numpy as np\n",
    "from fovperi.fov.fov2 import getFov, reverseMapPixel, reverseMapPixel_Initial, generate_fovea\n",
    "\n",
    "class FoveatedCompression:\n",
    "    def __init__(self, N=256, p0=22, Nr=18, bio_foveation=True, add_coords=False):\n",
    "        self.N = N\n",
    "        self.p0 = p0\n",
    "        self.Nr = Nr\n",
    "        self.bio_foveation = bio_foveation\n",
    "        self.add_coords = add_coords\n",
    "        self.fovCenter = int((N - 2 * p0) / 2)\n",
    "        self.fovSize = 2 * (p0 + Nr) + 1\n",
    "        self.fovX, self.fovY = N // 2 - self.p0, N // 2 - self.p0\n",
    "\n",
    "        # Initialize the reverse mapping and foveation functions\n",
    "        self.reverseMapPixel_Initial = reverseMapPixel_Initial(N=N, p0=p0, Nr=Nr, fovCenter=self.fovCenter, bio=bio_foveation)\n",
    "        self.reverseMapPixel = reverseMapPixel(N=N, p0=p0, Nr=Nr, bio=bio_foveation)\n",
    "        self.getFovead = getFov(N=N, p0=p0, Nr=Nr, bio=bio_foveation, add_coords=add_coords)\n",
    "\n",
    "    def foveated_compression(self, image):\n",
    "        return np.array(self.getFovead(image, self.fovX, self.fovY, add_coords=False), dtype=np.uint8)\n",
    "\n",
    "    def reconstruct(self, image):\n",
    "        reconstructed, interpolated = self.getFovead(image, self.fovX, self.fovY, add_coords=False, reverse=True)\n",
    "        return np.array(reconstructed, dtype=np.uint8), np.array(interpolated, dtype=np.uint8)\n"
   ]
  },
  {
   "cell_type": "code",
   "execution_count": 8,
   "metadata": {},
   "outputs": [],
   "source": [
    "foveated_comp = FoveatedCompression()"
   ]
  },
  {
   "cell_type": "code",
   "execution_count": 9,
   "metadata": {},
   "outputs": [
    {
     "ename": "IndexError",
     "evalue": "index 11 is out of bounds for axis 0 with size 3",
     "output_type": "error",
     "traceback": [
      "\u001b[1;31m---------------------------------------------------------------------------\u001b[0m",
      "\u001b[1;31mIndexError\u001b[0m                                Traceback (most recent call last)",
      "\u001b[1;32mc:\\Users\\appel\\Documents\\Project\\Foveated vision\\experiment.ipynb Cell 12\u001b[0m line \u001b[0;36m6\n\u001b[0;32m      <a href='vscode-notebook-cell:/c%3A/Users/appel/Documents/Project/Foveated%20vision/experiment.ipynb#X14sZmlsZQ%3D%3D?line=2'>3</a>\u001b[0m sample_labels \u001b[39m=\u001b[39m np\u001b[39m.\u001b[39marray(ground_truths[\u001b[39m0\u001b[39m])\n\u001b[0;32m      <a href='vscode-notebook-cell:/c%3A/Users/appel/Documents/Project/Foveated%20vision/experiment.ipynb#X14sZmlsZQ%3D%3D?line=3'>4</a>\u001b[0m sample_labels \u001b[39m=\u001b[39m np\u001b[39m.\u001b[39mexpand_dims(sample_labels, axis\u001b[39m=\u001b[39m\u001b[39m2\u001b[39m)\n\u001b[1;32m----> <a href='vscode-notebook-cell:/c%3A/Users/appel/Documents/Project/Foveated%20vision/experiment.ipynb#X14sZmlsZQ%3D%3D?line=5'>6</a>\u001b[0m foveated_image \u001b[39m=\u001b[39m foveated_comp\u001b[39m.\u001b[39;49mfoveated_compression(sample_image)\n\u001b[0;32m      <a href='vscode-notebook-cell:/c%3A/Users/appel/Documents/Project/Foveated%20vision/experiment.ipynb#X14sZmlsZQ%3D%3D?line=6'>7</a>\u001b[0m foveated_labels \u001b[39m=\u001b[39m foveated_comp\u001b[39m.\u001b[39mfoveated_compression(sample_labels)\n\u001b[0;32m      <a href='vscode-notebook-cell:/c%3A/Users/appel/Documents/Project/Foveated%20vision/experiment.ipynb#X14sZmlsZQ%3D%3D?line=7'>8</a>\u001b[0m Image\u001b[39m.\u001b[39mfromarray(foveated_image)\n",
      "\u001b[1;32mc:\\Users\\appel\\Documents\\Project\\Foveated vision\\experiment.ipynb Cell 12\u001b[0m line \u001b[0;36m2\n\u001b[0;32m     <a href='vscode-notebook-cell:/c%3A/Users/appel/Documents/Project/Foveated%20vision/experiment.ipynb#X14sZmlsZQ%3D%3D?line=21'>22</a>\u001b[0m \u001b[39mdef\u001b[39;00m \u001b[39mfoveated_compression\u001b[39m(\u001b[39mself\u001b[39m, image):\n\u001b[1;32m---> <a href='vscode-notebook-cell:/c%3A/Users/appel/Documents/Project/Foveated%20vision/experiment.ipynb#X14sZmlsZQ%3D%3D?line=22'>23</a>\u001b[0m     \u001b[39mreturn\u001b[39;00m np\u001b[39m.\u001b[39marray(\u001b[39mself\u001b[39;49m\u001b[39m.\u001b[39;49mgetFovead(image, \u001b[39mself\u001b[39;49m\u001b[39m.\u001b[39;49mfovX, \u001b[39mself\u001b[39;49m\u001b[39m.\u001b[39;49mfovY, add_coords\u001b[39m=\u001b[39;49m\u001b[39mFalse\u001b[39;49;00m), dtype\u001b[39m=\u001b[39mnp\u001b[39m.\u001b[39muint8)\n",
      "File \u001b[1;32mc:\\Users\\appel\\Documents\\Project\\Foveated vision\\fovperi\\fov\\fov2.py:255\u001b[0m, in \u001b[0;36mgetFov.<locals>.process\u001b[1;34m(im, fovX, fovY, for_training, sample_matrix, add_coords, reverse)\u001b[0m\n\u001b[0;32m    252\u001b[0m \u001b[39mif\u001b[39;00m sample_matrix:\n\u001b[0;32m    253\u001b[0m \torig_reconst[mX,mY,:] \u001b[39m=\u001b[39m im[mX,mY,:]\n\u001b[1;32m--> 255\u001b[0m fov[ab,:] \u001b[39m=\u001b[39m im[mX,mY,:]\n\u001b[0;32m    256\u001b[0m fov\u001b[39m=\u001b[39mfov\u001b[39m.\u001b[39mreshape( (dims,dims,channels) )\n\u001b[0;32m    258\u001b[0m \u001b[39mif\u001b[39;00m add_coords:\n",
      "\u001b[1;31mIndexError\u001b[0m: index 11 is out of bounds for axis 0 with size 3"
     ]
    }
   ],
   "source": [
    "# Test with sample image\n",
    "sample_image = np.array(inputs[0], dtype=np.uint8)\n",
    "sample_labels = np.array(ground_truths[0])\n",
    "sample_labels = np.expand_dims(sample_labels, axis=2)\n",
    "\n",
    "foveated_image = foveated_comp.foveated_compression(sample_image)\n",
    "foveated_labels = foveated_comp.foveated_compression(sample_labels)\n",
    "Image.fromarray(foveated_image)"
   ]
  },
  {
   "cell_type": "code",
   "execution_count": 10,
   "metadata": {},
   "outputs": [
    {
     "data": {
      "text/plain": [
       "(3, 81, 81)"
      ]
     },
     "execution_count": 10,
     "metadata": {},
     "output_type": "execute_result"
    }
   ],
   "source": [
    "sample_image.shape"
   ]
  },
  {
   "cell_type": "code",
   "execution_count": 11,
   "metadata": {},
   "outputs": [
    {
     "ename": "NameError",
     "evalue": "name 'foveated_image' is not defined",
     "output_type": "error",
     "traceback": [
      "\u001b[1;31m---------------------------------------------------------------------------\u001b[0m",
      "\u001b[1;31mNameError\u001b[0m                                 Traceback (most recent call last)",
      "\u001b[1;32mc:\\Users\\appel\\Documents\\Project\\Foveated vision\\experiment.ipynb Cell 14\u001b[0m line \u001b[0;36m1\n\u001b[1;32m----> <a href='vscode-notebook-cell:/c%3A/Users/appel/Documents/Project/Foveated%20vision/experiment.ipynb#X16sZmlsZQ%3D%3D?line=0'>1</a>\u001b[0m reconstructed_image, interpolated_image \u001b[39m=\u001b[39m foveated_comp\u001b[39m.\u001b[39mreconstruct(foveated_image)\n\u001b[0;32m      <a href='vscode-notebook-cell:/c%3A/Users/appel/Documents/Project/Foveated%20vision/experiment.ipynb#X16sZmlsZQ%3D%3D?line=1'>2</a>\u001b[0m reconstructed_labels, interpolated_labels \u001b[39m=\u001b[39m foveated_comp\u001b[39m.\u001b[39mreconstruct(foveated_labels)\n\u001b[0;32m      <a href='vscode-notebook-cell:/c%3A/Users/appel/Documents/Project/Foveated%20vision/experiment.ipynb#X16sZmlsZQ%3D%3D?line=2'>3</a>\u001b[0m Image\u001b[39m.\u001b[39mfromarray(reconstructed_image)\n",
      "\u001b[1;31mNameError\u001b[0m: name 'foveated_image' is not defined"
     ]
    }
   ],
   "source": [
    "reconstructed_image, interpolated_image = foveated_comp.reconstruct(foveated_image)\n",
    "reconstructed_labels, interpolated_labels = foveated_comp.reconstruct(foveated_labels)\n",
    "Image.fromarray(reconstructed_image)"
   ]
  },
  {
   "cell_type": "markdown",
   "metadata": {},
   "source": [
    "# Neural network"
   ]
  },
  {
   "cell_type": "code",
   "execution_count": 12,
   "metadata": {},
   "outputs": [],
   "source": [
    "class SqueezeMask(object):\n",
    "    \"\"\"Squeeze the channel dimension of the mask tensor.\"\"\"\n",
    "    def __call__(self, mask):\n",
    "        # Assumes mask is a PyTorch tensor\n",
    "        return mask.squeeze(0)\n",
    "\n",
    "    def __repr__(self):\n",
    "        return self.__class__.__name__ + '()'"
   ]
  },
  {
   "cell_type": "code",
   "execution_count": 13,
   "metadata": {},
   "outputs": [
    {
     "name": "stderr",
     "output_type": "stream",
     "text": [
      "GPU available: True (cuda), used: True\n",
      "TPU available: False, using: 0 TPU cores\n",
      "IPU available: False, using: 0 IPUs\n",
      "HPU available: False, using: 0 HPUs\n",
      "LOCAL_RANK: 0 - CUDA_VISIBLE_DEVICES: [0]\n",
      "\n",
      "  | Name      | Type             | Params\n",
      "-----------------------------------------------\n",
      "0 | model     | Unet             | 24.4 M\n",
      "1 | criterion | CrossEntropyLoss | 0     \n",
      "-----------------------------------------------\n",
      "24.4 M    Trainable params\n",
      "0         Non-trainable params\n",
      "24.4 M    Total params\n",
      "97.757    Total estimated model params size (MB)\n"
     ]
    },
    {
     "data": {
      "application/vnd.jupyter.widget-view+json": {
       "model_id": "6a0e5144f9fc4246b46c05b7b72e9076",
       "version_major": 2,
       "version_minor": 0
      },
      "text/plain": [
       "Sanity Checking: |          | 0/? [00:00<?, ?it/s]"
      ]
     },
     "metadata": {},
     "output_type": "display_data"
    },
    {
     "name": "stderr",
     "output_type": "stream",
     "text": [
      "c:\\Users\\appel\\anaconda3\\envs\\ML\\lib\\site-packages\\pytorch_lightning\\trainer\\connectors\\data_connector.py:441: The 'val_dataloader' does not have many workers which may be a bottleneck. Consider increasing the value of the `num_workers` argument` to `num_workers=11` in the `DataLoader` to improve performance.\n",
      "c:\\Users\\appel\\anaconda3\\envs\\ML\\lib\\site-packages\\pytorch_lightning\\trainer\\connectors\\data_connector.py:441: The 'train_dataloader' does not have many workers which may be a bottleneck. Consider increasing the value of the `num_workers` argument` to `num_workers=11` in the `DataLoader` to improve performance.\n"
     ]
    },
    {
     "data": {
      "application/vnd.jupyter.widget-view+json": {
       "model_id": "697bb25f8d844ffc90cbc727fbab02b2",
       "version_major": 2,
       "version_minor": 0
      },
      "text/plain": [
       "Training: |          | 0/? [00:00<?, ?it/s]"
      ]
     },
     "metadata": {},
     "output_type": "display_data"
    },
    {
     "data": {
      "application/vnd.jupyter.widget-view+json": {
       "model_id": "3014c5c4596d4998b4af053a66961aab",
       "version_major": 2,
       "version_minor": 0
      },
      "text/plain": [
       "Validation: |          | 0/? [00:00<?, ?it/s]"
      ]
     },
     "metadata": {},
     "output_type": "display_data"
    },
    {
     "data": {
      "application/vnd.jupyter.widget-view+json": {
       "model_id": "c2584c68719749f69520322e69d4316b",
       "version_major": 2,
       "version_minor": 0
      },
      "text/plain": [
       "Validation: |          | 0/? [00:00<?, ?it/s]"
      ]
     },
     "metadata": {},
     "output_type": "display_data"
    },
    {
     "data": {
      "application/vnd.jupyter.widget-view+json": {
       "model_id": "655260f1f9724173905f1b47151dac8b",
       "version_major": 2,
       "version_minor": 0
      },
      "text/plain": [
       "Validation: |          | 0/? [00:00<?, ?it/s]"
      ]
     },
     "metadata": {},
     "output_type": "display_data"
    },
    {
     "data": {
      "application/vnd.jupyter.widget-view+json": {
       "model_id": "c89074efbcbd47c49ffac2d5b917d21f",
       "version_major": 2,
       "version_minor": 0
      },
      "text/plain": [
       "Validation: |          | 0/? [00:00<?, ?it/s]"
      ]
     },
     "metadata": {},
     "output_type": "display_data"
    },
    {
     "data": {
      "application/vnd.jupyter.widget-view+json": {
       "model_id": "324762ac33dd402499b2808cb25cd149",
       "version_major": 2,
       "version_minor": 0
      },
      "text/plain": [
       "Validation: |          | 0/? [00:00<?, ?it/s]"
      ]
     },
     "metadata": {},
     "output_type": "display_data"
    },
    {
     "data": {
      "application/vnd.jupyter.widget-view+json": {
       "model_id": "c3ae53c69e0c46ff886668d487d25176",
       "version_major": 2,
       "version_minor": 0
      },
      "text/plain": [
       "Validation: |          | 0/? [00:00<?, ?it/s]"
      ]
     },
     "metadata": {},
     "output_type": "display_data"
    },
    {
     "data": {
      "application/vnd.jupyter.widget-view+json": {
       "model_id": "3e31f79a105f48adae9093164effa86d",
       "version_major": 2,
       "version_minor": 0
      },
      "text/plain": [
       "Validation: |          | 0/? [00:00<?, ?it/s]"
      ]
     },
     "metadata": {},
     "output_type": "display_data"
    },
    {
     "data": {
      "application/vnd.jupyter.widget-view+json": {
       "model_id": "2f37200b41374977bda3810252433a91",
       "version_major": 2,
       "version_minor": 0
      },
      "text/plain": [
       "Validation: |          | 0/? [00:00<?, ?it/s]"
      ]
     },
     "metadata": {},
     "output_type": "display_data"
    },
    {
     "data": {
      "application/vnd.jupyter.widget-view+json": {
       "model_id": "343cdb3f04f14953b67559728bf286d1",
       "version_major": 2,
       "version_minor": 0
      },
      "text/plain": [
       "Validation: |          | 0/? [00:00<?, ?it/s]"
      ]
     },
     "metadata": {},
     "output_type": "display_data"
    },
    {
     "data": {
      "application/vnd.jupyter.widget-view+json": {
       "model_id": "63484e7cb3b9442cb581f58e2175dbab",
       "version_major": 2,
       "version_minor": 0
      },
      "text/plain": [
       "Validation: |          | 0/? [00:00<?, ?it/s]"
      ]
     },
     "metadata": {},
     "output_type": "display_data"
    },
    {
     "name": "stderr",
     "output_type": "stream",
     "text": [
      "`Trainer.fit` stopped: `max_epochs=10` reached.\n"
     ]
    }
   ],
   "source": [
    "import os\n",
    "import pytorch_lightning as pl\n",
    "import segmentation_models_pytorch as smp\n",
    "from torch.utils.data import DataLoader\n",
    "from torchvision import datasets, transforms\n",
    "from torchvision.transforms import functional as F\n",
    "\n",
    "import torch\n",
    "\n",
    "class VOCSegmentationModule(pl.LightningModule):\n",
    "    def __init__(self, num_classes: int = 21, lr: float = 1e-4):\n",
    "        super().__init__()\n",
    "        self.save_hyperparameters()\n",
    "        self.model = smp.Unet(encoder_name=\"resnet34\", in_channels=3, classes=21, encoder_weights=None, activation=None)\n",
    "        self.criterion = torch.nn.CrossEntropyLoss()\n",
    "        self.size = (64, 64)\n",
    "        self.transform = transforms.Compose([transforms.Resize(self.size), transforms.ToTensor()])\n",
    "        self.target_transform = transforms.Compose([transforms.Resize(self.size), transforms.ToTensor(), SqueezeMask()])\n",
    "\n",
    "    def forward(self, x):\n",
    "        return self.model(x)\n",
    "\n",
    "    def configure_optimizers(self):\n",
    "        optimizer = torch.optim.Adam(self.model.parameters(), lr=self.hparams.lr)\n",
    "        return optimizer\n",
    "\n",
    "    def training_step(self, batch, batch_idx):\n",
    "        images, masks = batch\n",
    "        masks = masks.squeeze(1)\n",
    "        outputs = self.forward(images)\n",
    "        loss = self.criterion(outputs, masks.long())\n",
    "        self.log('train_loss', loss, on_step=True, on_epoch=True, prog_bar=True, logger=True)\n",
    "        return loss\n",
    "\n",
    "    def validation_step(self, batch, batch_idx):\n",
    "        images, masks = batch\n",
    "        masks = masks.squeeze(1) \n",
    "        outputs = self.forward(images)\n",
    "        loss = self.criterion(outputs, masks.long())\n",
    "        self.log('val_loss', loss, on_epoch=True, prog_bar=True)\n",
    "        return loss\n",
    "\n",
    "    def train_dataloader(self):\n",
    "        train_dataset = datasets.VOCSegmentation(\n",
    "            root='data',\n",
    "            year='2012',\n",
    "            image_set='train',\n",
    "            download=False,\n",
    "            transform=self.transform,\n",
    "            target_transform=self.target_transform\n",
    "        )\n",
    "        \n",
    "        train_loader = DataLoader(\n",
    "            dataset=train_dataset,\n",
    "            batch_size=4,\n",
    "            shuffle=True,\n",
    "            num_workers=0\n",
    "        )\n",
    "        return train_loader\n",
    "\n",
    "    def val_dataloader(self):\n",
    "\n",
    "        val_dataset = datasets.VOCSegmentation(\n",
    "            root='data',\n",
    "            year='2012',\n",
    "            image_set='val',\n",
    "            download=False,\n",
    "            transform=self.transform,\n",
    "            target_transform=self.target_transform\n",
    "        )\n",
    "        \n",
    "        val_loader = DataLoader(\n",
    "            dataset=val_dataset,\n",
    "            batch_size=4,\n",
    "            shuffle=False,\n",
    "            num_workers=0\n",
    "        )\n",
    "        return val_loader\n",
    "\n",
    "# Instantiate the LightningModule\n",
    "voc_module = VOCSegmentationModule()\n",
    "\n",
    "# Setup Trainer\n",
    "trainer = pl.Trainer(max_epochs=10)\n",
    "\n",
    "# Train the model\n",
    "trainer.fit(voc_module)\n"
   ]
  },
  {
   "cell_type": "code",
   "execution_count": 14,
   "metadata": {},
   "outputs": [],
   "source": [
    "voc_module.model.eval()\n",
    "\n",
    "image, mask = next(iter(voc_module.train_dataloader()))"
   ]
  },
  {
   "cell_type": "code",
   "execution_count": 15,
   "metadata": {},
   "outputs": [],
   "source": [
    "out = voc_module.model(image)"
   ]
  },
  {
   "cell_type": "code",
   "execution_count": 16,
   "metadata": {},
   "outputs": [
    {
     "data": {
      "text/plain": [
       "<matplotlib.image.AxesImage at 0x1d8b722d850>"
      ]
     },
     "execution_count": 16,
     "metadata": {},
     "output_type": "execute_result"
    },
    {
     "data": {
      "image/png": "[encoded data removed]",
      "text/plain": [
       "<Figure size 640x480 with 1 Axes>"
      ]
     },
     "metadata": {},
     "output_type": "display_data"
    }
   ],
   "source": [
    "plt.imshow(image[0].permute(1, 2, 0))"
   ]
  },
  {
   "cell_type": "code",
   "execution_count": 17,
   "metadata": {},
   "outputs": [
    {
     "data": {
      "image/png": "[encoded data removed]",
      "text/plain": [
       "<Figure size 640x480 with 1 Axes>"
      ]
     },
     "metadata": {},
     "output_type": "display_data"
    }
   ],
   "source": [
    "import matplotlib.pyplot as plt\n",
    "import numpy as np\n",
    "import torch\n",
    "\n",
    "def decode_segmap(image, nc=21):\n",
    "    \"\"\"\n",
    "    Decode segmentation map to a RGB image, where nc is the number of classes.\n",
    "    \n",
    "    Args:\n",
    "        image: the segmentation map (tensor or numpy array).\n",
    "        nc: number of classes.\n",
    "        \n",
    "    Returns:\n",
    "        A numpy array with the RGB representation of the segmentation map.\n",
    "    \"\"\"\n",
    "    label_colors = np.array([\n",
    "        (0, 0, 0),        # 0=background\n",
    "        (128, 0, 0),      # 1=class 1\n",
    "        (0, 128, 0),      # 2=class 2\n",
    "        (128, 128, 0),    # 3=class 3\n",
    "        (0, 0, 128),      # 4=class 4\n",
    "        (128, 0, 128),    # 5=class 5\n",
    "        (0, 128, 128),    # 6=class 6\n",
    "        (128, 128, 128),  # 7=class 7\n",
    "        (64, 0, 0),       # 8=class 8\n",
    "        (192, 0, 0),      # 9=class 9\n",
    "        (64, 128, 0),     # 10=class 10\n",
    "        (192, 128, 0),    # 11=class 11\n",
    "        (64, 0, 128),     # 12=class 12\n",
    "        (192, 0, 128),    # 13=class 13\n",
    "        (64, 128, 128),   # 14=class 14\n",
    "        (192, 128, 128),  # 15=class 15\n",
    "        (0, 64, 0),       # 16=class 16\n",
    "        (128, 64, 0),     # 17=class 17\n",
    "        (0, 192, 0),      # 18=class 18\n",
    "        (128, 192, 0),    # 19=class 19\n",
    "        (0, 64, 128),      # 20=class 20\n",
    "        (224, 224, 192)   # 21=class 21\n",
    "    ])\n",
    "\n",
    "    if isinstance(image, torch.Tensor):\n",
    "        image = image.cpu().numpy()\n",
    "\n",
    "    r = np.zeros_like(image).astype(np.uint8)\n",
    "    g = np.zeros_like(image).astype(np.uint8)\n",
    "    b = np.zeros_like(image).astype(np.uint8)\n",
    "\n",
    "    for l in range(0, nc):\n",
    "        idx = image == l\n",
    "        r[idx] = label_colors[l, 0]\n",
    "        g[idx] = label_colors[l, 1]\n",
    "        b[idx] = label_colors[l, 2]\n",
    "    \n",
    "    rgb = np.stack([r, g, b], axis=2)\n",
    "    return rgb\n",
    "\n",
    "# Assuming `output` is your model's output\n",
    "# Apply softmax to get probabilities and then take the argmax across channels\n",
    "segmap = mask[0]*255\n",
    "\n",
    "# Convert the segmentation map to an RGB image\n",
    "color_segmap = decode_segmap(segmap)\n",
    "\n",
    "# Show the color segmentation map\n",
    "plt.imshow(color_segmap)\n",
    "plt.show()\n"
   ]
  },
  {
   "cell_type": "code",
   "execution_count": 18,
   "metadata": {},
   "outputs": [
    {
     "data": {
      "image/png": "[encoded data removed]",
      "text/plain": [
       "<Figure size 640x480 with 1 Axes>"
      ]
     },
     "metadata": {},
     "output_type": "display_data"
    }
   ],
   "source": [
    "# Assuming `output` is your model's output\n",
    "# Apply softmax to get probabilities and then take the argmax across channels\n",
    "segmap = out[0][:, :, :].argmax(0)\n",
    "\n",
    "# Convert the segmentation map to an RGB image\n",
    "color_segmap = decode_segmap(segmap)\n",
    "\n",
    "# Show the color segmentation map\n",
    "plt.imshow(color_segmap)\n",
    "plt.show()"
   ]
  }
 ],
 "metadata": {
  "kernelspec": {
   "display_name": "ML",
   "language": "python",
   "name": "python3"
  },
  "language_info": {
   "codemirror_mode": {
    "name": "ipython",
    "version": 3
   },
   "file_extension": ".py",
   "mimetype": "text/x-python",
   "name": "python",
   "nbconvert_exporter": "python",
   "pygments_lexer": "ipython3",
   "version": "3.9.13"
  }
 },
 "nbformat": 4,
 "nbformat_minor": 2
}
